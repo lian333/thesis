{
 "cells": [
  {
   "cell_type": "code",
   "execution_count": 3,
   "metadata": {},
   "outputs": [],
   "source": [
    "import numpy as np\n",
    "from gretel_synthetics.timeseries_dgan.dgan import DGAN\n",
    "from gretel_synthetics.timeseries_dgan.config import DGANConfig\n",
    "import pandas as pd\n",
    "from gretel_synthetics.timeseries_dgan.config import DGANConfig, OutputType\n"
   ]
  },
  {
   "cell_type": "code",
   "execution_count": 5,
   "metadata": {},
   "outputs": [
    {
     "name": "stderr",
     "output_type": "stream",
     "text": [
      "c:\\Users\\28968\\.conda\\envs\\syntheic\\lib\\site-packages\\torch\\amp\\autocast_mode.py:202: UserWarning: User provided device_type of 'cuda', but CUDA is not available. Disabling\n",
      "  warnings.warn('User provided device_type of \\'cuda\\', but CUDA is not available. Disabling')\n"
     ]
    }
   ],
   "source": [
    "attributes = np.random.rand(10000, 3)\n",
    "features = np.random.rand(10000, 20, 2)\n",
    "\n",
    "config = DGANConfig(\n",
    "    max_sequence_len=20,\n",
    "    sample_len=5,\n",
    "    batch_size=1000,\n",
    "    epochs=10\n",
    ")\n",
    "\n",
    "model = DGAN(config)\n",
    "\n",
    "model.train_numpy(attributes=attributes, features=features)\n",
    "\n",
    "synthetic_attributes, synthetic_features = model.generate_numpy(1000)"
   ]
  },
  {
   "cell_type": "code",
   "execution_count": 7,
   "metadata": {},
   "outputs": [
    {
     "ename": "IndexError",
     "evalue": "tuple index out of range",
     "output_type": "error",
     "traceback": [
      "\u001b[1;31m---------------------------------------------------------------------------\u001b[0m",
      "\u001b[1;31mIndexError\u001b[0m                                Traceback (most recent call last)",
      "Cell \u001b[1;32mIn[7], line 19\u001b[0m\n\u001b[0;32m      6\u001b[0m \u001b[38;5;66;03m# Train the model\u001b[39;00m\n\u001b[0;32m      8\u001b[0m model \u001b[38;5;241m=\u001b[39m DGAN(DGANConfig(\n\u001b[0;32m      9\u001b[0m \n\u001b[0;32m     10\u001b[0m    max_sequence_len\u001b[38;5;241m=\u001b[39m\u001b[38;5;241m20\u001b[39m,\n\u001b[1;32m   (...)\u001b[0m\n\u001b[0;32m     17\u001b[0m \n\u001b[0;32m     18\u001b[0m ))\n\u001b[1;32m---> 19\u001b[0m \u001b[43mmodel\u001b[49m\u001b[38;5;241;43m.\u001b[39;49m\u001b[43mtrain_numpy\u001b[49m\u001b[43m(\u001b[49m\n\u001b[0;32m     20\u001b[0m \n\u001b[0;32m     21\u001b[0m \u001b[43m   \u001b[49m\u001b[43mattributes\u001b[49m\u001b[43m,\u001b[49m\u001b[43m \u001b[49m\u001b[43mfeatures\u001b[49m\u001b[43m,\u001b[49m\n\u001b[0;32m     22\u001b[0m \n\u001b[0;32m     23\u001b[0m \u001b[43m   \u001b[49m\u001b[43mattribute_types\u001b[49m\u001b[43m \u001b[49m\u001b[38;5;241;43m=\u001b[39;49m\u001b[43m \u001b[49m\u001b[43m[\u001b[49m\u001b[43mOutputType\u001b[49m\u001b[38;5;241;43m.\u001b[39;49m\u001b[43mDISCRETE\u001b[49m\u001b[43m]\u001b[49m\u001b[43m \u001b[49m\u001b[38;5;241;43m*\u001b[39;49m\u001b[43m \u001b[49m\u001b[38;5;241;43m3\u001b[39;49m\u001b[43m,\u001b[49m\n\u001b[0;32m     24\u001b[0m \n\u001b[0;32m     25\u001b[0m \n\u001b[0;32m     26\u001b[0m \u001b[43m)\u001b[49m\n\u001b[0;32m     27\u001b[0m \u001b[38;5;66;03m# Generate synthetic data\u001b[39;00m\n\u001b[0;32m     29\u001b[0m synthetic_attributes, synthetic_features \u001b[38;5;241m=\u001b[39m model\u001b[38;5;241m.\u001b[39mgenerate_numpy(\u001b[38;5;241m1000\u001b[39m)\n",
      "File \u001b[1;32mc:\\Users\\28968\\.conda\\envs\\syntheic\\lib\\site-packages\\gretel_synthetics\\timeseries_dgan\\dgan.py:290\u001b[0m, in \u001b[0;36mDGAN.train_numpy\u001b[1;34m(self, features, feature_types, attributes, attribute_types, progress_callback)\u001b[0m\n\u001b[0;32m    286\u001b[0m \u001b[38;5;28;01mif\u001b[39;00m \u001b[38;5;129;01mnot\u001b[39;00m \u001b[38;5;28mself\u001b[39m\u001b[38;5;241m.\u001b[39mis_built:\n\u001b[0;32m    287\u001b[0m     logger\u001b[38;5;241m.\u001b[39minfo(\n\u001b[0;32m    288\u001b[0m         \u001b[38;5;124m\"\u001b[39m\u001b[38;5;124mDetermining outputs metadata from input data\u001b[39m\u001b[38;5;124m\"\u001b[39m, extra\u001b[38;5;241m=\u001b[39m{\u001b[38;5;124m\"\u001b[39m\u001b[38;5;124muser_log\u001b[39m\u001b[38;5;124m\"\u001b[39m: \u001b[38;5;28;01mTrue\u001b[39;00m}\n\u001b[0;32m    289\u001b[0m     )\n\u001b[1;32m--> 290\u001b[0m     attribute_outputs, feature_outputs \u001b[38;5;241m=\u001b[39m \u001b[43mcreate_outputs_from_data\u001b[49m\u001b[43m(\u001b[49m\n\u001b[0;32m    291\u001b[0m \u001b[43m        \u001b[49m\u001b[43mattributes\u001b[49m\u001b[43m,\u001b[49m\n\u001b[0;32m    292\u001b[0m \u001b[43m        \u001b[49m\u001b[43mfeatures\u001b[49m\u001b[43m,\u001b[49m\n\u001b[0;32m    293\u001b[0m \u001b[43m        \u001b[49m\u001b[43mattribute_types\u001b[49m\u001b[43m,\u001b[49m\n\u001b[0;32m    294\u001b[0m \u001b[43m        \u001b[49m\u001b[43mfeature_types\u001b[49m\u001b[43m,\u001b[49m\n\u001b[0;32m    295\u001b[0m \u001b[43m        \u001b[49m\u001b[43mnormalization\u001b[49m\u001b[38;5;241;43m=\u001b[39;49m\u001b[38;5;28;43mself\u001b[39;49m\u001b[38;5;241;43m.\u001b[39;49m\u001b[43mconfig\u001b[49m\u001b[38;5;241;43m.\u001b[39;49m\u001b[43mnormalization\u001b[49m\u001b[43m,\u001b[49m\n\u001b[0;32m    296\u001b[0m \u001b[43m        \u001b[49m\u001b[43mapply_feature_scaling\u001b[49m\u001b[38;5;241;43m=\u001b[39;49m\u001b[38;5;28;43mself\u001b[39;49m\u001b[38;5;241;43m.\u001b[39;49m\u001b[43mconfig\u001b[49m\u001b[38;5;241;43m.\u001b[39;49m\u001b[43mapply_feature_scaling\u001b[49m\u001b[43m,\u001b[49m\n\u001b[0;32m    297\u001b[0m \u001b[43m        \u001b[49m\u001b[43mapply_example_scaling\u001b[49m\u001b[38;5;241;43m=\u001b[39;49m\u001b[38;5;28;43mself\u001b[39;49m\u001b[38;5;241;43m.\u001b[39;49m\u001b[43mconfig\u001b[49m\u001b[38;5;241;43m.\u001b[39;49m\u001b[43mapply_example_scaling\u001b[49m\u001b[43m,\u001b[49m\n\u001b[0;32m    298\u001b[0m \u001b[43m    \u001b[49m\u001b[43m)\u001b[49m\n\u001b[0;32m    299\u001b[0m     logger\u001b[38;5;241m.\u001b[39minfo(\u001b[38;5;124m\"\u001b[39m\u001b[38;5;124mBuilding DGAN networks\u001b[39m\u001b[38;5;124m\"\u001b[39m, extra\u001b[38;5;241m=\u001b[39m{\u001b[38;5;124m\"\u001b[39m\u001b[38;5;124muser_log\u001b[39m\u001b[38;5;124m\"\u001b[39m: \u001b[38;5;28;01mTrue\u001b[39;00m})\n\u001b[0;32m    300\u001b[0m     \u001b[38;5;28mself\u001b[39m\u001b[38;5;241m.\u001b[39m_build(\n\u001b[0;32m    301\u001b[0m         attribute_outputs,\n\u001b[0;32m    302\u001b[0m         feature_outputs,\n\u001b[0;32m    303\u001b[0m     )\n",
      "File \u001b[1;32mc:\\Users\\28968\\.conda\\envs\\syntheic\\lib\\site-packages\\gretel_synthetics\\timeseries_dgan\\transformations.py:420\u001b[0m, in \u001b[0;36mcreate_outputs_from_data\u001b[1;34m(attributes, features, attribute_types, feature_types, normalization, apply_feature_scaling, apply_example_scaling, binary_encoder_cutoff)\u001b[0m\n\u001b[0;32m    418\u001b[0m \u001b[38;5;28;01mif\u001b[39;00m feature_types \u001b[38;5;129;01mis\u001b[39;00m \u001b[38;5;28;01mNone\u001b[39;00m:\n\u001b[0;32m    419\u001b[0m     feature_types \u001b[38;5;241m=\u001b[39m [OutputType\u001b[38;5;241m.\u001b[39mCONTINUOUS] \u001b[38;5;241m*\u001b[39m features[\u001b[38;5;241m0\u001b[39m]\u001b[38;5;241m.\u001b[39mshape[\u001b[38;5;241m1\u001b[39m]\n\u001b[1;32m--> 420\u001b[0m \u001b[38;5;28;01melif\u001b[39;00m \u001b[38;5;28mlen\u001b[39m(feature_types) \u001b[38;5;241m!=\u001b[39m \u001b[43mfeatures\u001b[49m\u001b[43m[\u001b[49m\u001b[38;5;241;43m0\u001b[39;49m\u001b[43m]\u001b[49m\u001b[38;5;241;43m.\u001b[39;49m\u001b[43mshape\u001b[49m\u001b[43m[\u001b[49m\u001b[38;5;241;43m1\u001b[39;49m\u001b[43m]\u001b[49m:\n\u001b[0;32m    421\u001b[0m     \u001b[38;5;28;01mraise\u001b[39;00m \u001b[38;5;167;01mRuntimeError\u001b[39;00m(\n\u001b[0;32m    422\u001b[0m         \u001b[38;5;124m\"\u001b[39m\u001b[38;5;124mfeature_types must be the same length as the 3rd (last) dimemnsion of features\u001b[39m\u001b[38;5;124m\"\u001b[39m\n\u001b[0;32m    423\u001b[0m     )\n\u001b[0;32m    424\u001b[0m feature_types \u001b[38;5;241m=\u001b[39m cast(List[OutputType], feature_types)\n",
      "\u001b[1;31mIndexError\u001b[0m: tuple index out of range"
     ]
    }
   ],
   "source": [
    "# Create some random training data\n",
    "\n",
    "attributes = np.random.randint(0, 3, size=(1000,3))\n",
    "\n",
    "features = np.random.random(size=(1000,20,2))\n",
    "# Train the model\n",
    "\n",
    "model = DGAN(DGANConfig(\n",
    "\n",
    "   max_sequence_len=20,\n",
    "\n",
    "   sample_len=4,\n",
    "\n",
    "   batch_size=1000,\n",
    "\n",
    "   epochs=10,  # For real data sets, 100-1000 epochs is typical\n",
    "\n",
    "))\n",
    "model.train_numpy(\n",
    "\n",
    "   attributes, features,\n",
    "\n",
    "   attribute_types = [OutputType.DISCRETE] * 3,\n",
    "\n",
    "\n",
    ")\n",
    "# Generate synthetic data\n",
    "\n",
    "synthetic_attributes, synthetic_features = model.generate_numpy(1000)"
   ]
  },
  {
   "cell_type": "code",
   "execution_count": null,
   "metadata": {},
   "outputs": [],
   "source": [
    "# Create some random training data\n",
    "\n",
    "df = pd.DataFrame(np.random.random(size=(1000,30)))\n",
    "\n",
    "df.columns = pd.date_range(\"2022-01-01\", periods=30)\n",
    "\n",
    "# Include an attribute column\n",
    "\n",
    "df[\"attribute\"] = np.random.randint(0, 3, size=1000)\n",
    "# Train the model\n",
    "\n",
    "model = DGAN(DGANConfig(\n",
    "\n",
    "   max_sequence_len=30,\n",
    "\n",
    "   sample_len=3,\n",
    "\n",
    "   batch_size=1000,\n",
    "\n",
    "   epochs=10,  # For real data sets, 100-1000 epochs is typical\n",
    "\n",
    "))\n",
    "model.train_dataframe(\n",
    "\n",
    "   df,\n",
    "\n",
    "   df_attribute_columns=[\"attribute\"],\n",
    "\n",
    "   attribute_types=[OutputType.DISCRETE],\n",
    "\n",
    ")\n",
    "# Generate synthetic data\n",
    "\n",
    "synthetic_df = model.generate_dataframe(100)\n",
    "\n",
    "作者：吴欣\n",
    "链接：https://juejin.cn/post/7116866479521267742\n",
    "来源：稀土掘金\n",
    "著作权归作者所有。商业转载请联系作者获得授权，非商业转载请注明出处。"
   ]
  }
 ],
 "metadata": {
  "kernelspec": {
   "display_name": "Python 3",
   "language": "python",
   "name": "python3"
  },
  "language_info": {
   "codemirror_mode": {
    "name": "ipython",
    "version": 3
   },
   "file_extension": ".py",
   "mimetype": "text/x-python",
   "name": "python",
   "nbconvert_exporter": "python",
   "pygments_lexer": "ipython3",
   "version": "3.9.18"
  }
 },
 "nbformat": 4,
 "nbformat_minor": 2
}
