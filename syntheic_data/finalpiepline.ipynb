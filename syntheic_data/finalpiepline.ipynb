{
 "cells": [
  {
   "cell_type": "code",
   "execution_count": 2,
   "metadata": {},
   "outputs": [],
   "source": [
    "import dask.dataframe as dd\n",
    "from dask_ml.model_selection import RandomizedSearchCV\n",
    "import xgboost as xgb\n",
    "from sklearn.metrics import accuracy_score\n",
    "from joblib import dump,load\n",
    "import numpy as np\n",
    "import time"
   ]
  },
  {
   "cell_type": "markdown",
   "metadata": {},
   "source": [
    "# load the classification model"
   ]
  },
  {
   "cell_type": "code",
   "execution_count": 29,
   "metadata": {},
   "outputs": [
    {
     "name": "stdout",
     "output_type": "stream",
     "text": [
      "10000\n",
      "['date', 'Schadensklasse', 'Effektivwert_z', 'Median_z', 'Mittlere_Absolute_Abweichung_z', 'Mittelwert_z', 'Median_y', 'Effektivwert_y', 'Effektivwert_x', 'Variance_z', 'Mittelwert_x', 'Standardabweichung_z']\n"
     ]
    },
    {
     "data": {
      "text/html": [
       "<div>\n",
       "<style scoped>\n",
       "    .dataframe tbody tr th:only-of-type {\n",
       "        vertical-align: middle;\n",
       "    }\n",
       "\n",
       "    .dataframe tbody tr th {\n",
       "        vertical-align: top;\n",
       "    }\n",
       "\n",
       "    .dataframe thead th {\n",
       "        text-align: right;\n",
       "    }\n",
       "</style>\n",
       "<table border=\"1\" class=\"dataframe\">\n",
       "  <thead>\n",
       "    <tr style=\"text-align: right;\">\n",
       "      <th></th>\n",
       "      <th>date</th>\n",
       "      <th>Schadensklasse</th>\n",
       "      <th>Effektivwert_z</th>\n",
       "      <th>Median_z</th>\n",
       "      <th>Mittlere_Absolute_Abweichung_z</th>\n",
       "      <th>Mittelwert_z</th>\n",
       "      <th>Median_y</th>\n",
       "      <th>Effektivwert_y</th>\n",
       "      <th>Effektivwert_x</th>\n",
       "      <th>Variance_z</th>\n",
       "      <th>Mittelwert_x</th>\n",
       "      <th>Standardabweichung_z</th>\n",
       "    </tr>\n",
       "  </thead>\n",
       "  <tbody>\n",
       "    <tr>\n",
       "      <th>0</th>\n",
       "      <td>2020-11-04 11:40:00</td>\n",
       "      <td>2</td>\n",
       "      <td>15896.6</td>\n",
       "      <td>15872</td>\n",
       "      <td>350.131</td>\n",
       "      <td>15889.7</td>\n",
       "      <td>-512</td>\n",
       "      <td>571.115</td>\n",
       "      <td>657.526</td>\n",
       "      <td>220962</td>\n",
       "      <td>569.600</td>\n",
       "      <td>469.831</td>\n",
       "    </tr>\n",
       "    <tr>\n",
       "      <th>1</th>\n",
       "      <td>2020-11-04 11:40:00</td>\n",
       "      <td>2</td>\n",
       "      <td>15887.1</td>\n",
       "      <td>15872</td>\n",
       "      <td>363.095</td>\n",
       "      <td>15879.7</td>\n",
       "      <td>-512</td>\n",
       "      <td>571.746</td>\n",
       "      <td>627.592</td>\n",
       "      <td>235057</td>\n",
       "      <td>545.792</td>\n",
       "      <td>484.584</td>\n",
       "    </tr>\n",
       "    <tr>\n",
       "      <th>2</th>\n",
       "      <td>2020-11-04 11:40:00</td>\n",
       "      <td>2</td>\n",
       "      <td>15893.9</td>\n",
       "      <td>15872</td>\n",
       "      <td>395.262</td>\n",
       "      <td>15885.8</td>\n",
       "      <td>-512</td>\n",
       "      <td>566.507</td>\n",
       "      <td>651.770</td>\n",
       "      <td>256573</td>\n",
       "      <td>565.248</td>\n",
       "      <td>506.277</td>\n",
       "    </tr>\n",
       "    <tr>\n",
       "      <th>3</th>\n",
       "      <td>2020-11-04 11:40:00</td>\n",
       "      <td>2</td>\n",
       "      <td>15927.7</td>\n",
       "      <td>15872</td>\n",
       "      <td>389.710</td>\n",
       "      <td>15920.1</td>\n",
       "      <td>-512</td>\n",
       "      <td>568.931</td>\n",
       "      <td>653.578</td>\n",
       "      <td>241982</td>\n",
       "      <td>566.784</td>\n",
       "      <td>491.670</td>\n",
       "    </tr>\n",
       "    <tr>\n",
       "      <th>4</th>\n",
       "      <td>2020-11-04 11:40:00</td>\n",
       "      <td>2</td>\n",
       "      <td>15925.5</td>\n",
       "      <td>15872</td>\n",
       "      <td>414.196</td>\n",
       "      <td>15917.1</td>\n",
       "      <td>-512</td>\n",
       "      <td>586.402</td>\n",
       "      <td>661.006</td>\n",
       "      <td>268509</td>\n",
       "      <td>567.040</td>\n",
       "      <td>517.919</td>\n",
       "    </tr>\n",
       "  </tbody>\n",
       "</table>\n",
       "</div>"
      ],
      "text/plain": [
       "                 date  Schadensklasse  Effektivwert_z  Median_z  \\\n",
       "0 2020-11-04 11:40:00               2         15896.6     15872   \n",
       "1 2020-11-04 11:40:00               2         15887.1     15872   \n",
       "2 2020-11-04 11:40:00               2         15893.9     15872   \n",
       "3 2020-11-04 11:40:00               2         15927.7     15872   \n",
       "4 2020-11-04 11:40:00               2         15925.5     15872   \n",
       "\n",
       "   Mittlere_Absolute_Abweichung_z  Mittelwert_z  Median_y  Effektivwert_y  \\\n",
       "0                         350.131       15889.7      -512         571.115   \n",
       "1                         363.095       15879.7      -512         571.746   \n",
       "2                         395.262       15885.8      -512         566.507   \n",
       "3                         389.710       15920.1      -512         568.931   \n",
       "4                         414.196       15917.1      -512         586.402   \n",
       "\n",
       "   Effektivwert_x  Variance_z  Mittelwert_x  Standardabweichung_z  \n",
       "0         657.526      220962       569.600               469.831  \n",
       "1         627.592      235057       545.792               484.584  \n",
       "2         651.770      256573       565.248               506.277  \n",
       "3         653.578      241982       566.784               491.670  \n",
       "4         661.006      268509       567.040               517.919  "
      ]
     },
     "execution_count": 29,
     "metadata": {},
     "output_type": "execute_result"
    }
   ],
   "source": [
    "import matplotlib.pyplot as plt\n",
    "import pandas as pd\n",
    "datapath=r'../Dataanalyse/axis2_demo_tablepart1_0.csv'\n",
    "#open feature_important_axis1.json\n",
    "import json\n",
    "with open('feature_important_axis1.json') as f:\n",
    "    feature_important_axis1 = json.load(f)\n",
    "\n",
    "feature_important_axis1\n",
    "df = pd.read_csv(datapath)\n",
    "print(len(df))\n",
    "df.drop_duplicates(subset=[df.columns[0]], inplace=True)\n",
    "df[\"date\"] = pd.to_datetime(df.Timestamp, unit='s')\n",
    "\n",
    "features=[\"date\",'Schadensklasse']+feature_important_axis1\n",
    "\n",
    "print(features)\n",
    "data_selected = df[features]\n",
    "data_selected.head()"
   ]
  },
  {
   "cell_type": "code",
   "execution_count": 34,
   "metadata": {},
   "outputs": [
    {
     "name": "stdout",
     "output_type": "stream",
     "text": [
      "length of batches: %d 2201\n",
      "length of batches: %d 2348\n",
      "length of batches: %d 2692\n",
      "==============================\n"
     ]
    }
   ],
   "source": [
    "alltime=np.unique(data_selected.date)\n",
    "alltime\n",
    "after=[]\n",
    "for x in alltime:\n",
    "    length=len(data_selected[data_selected[\"date\"]==x])\n",
    "    if length >=2000:\n",
    "        after.append(x)\n",
    "        print('length of batches: %d',length)\n",
    "print('='*30)\n"
   ]
  },
  {
   "cell_type": "code",
   "execution_count": 37,
   "metadata": {},
   "outputs": [],
   "source": [
    "for time in after:\n",
    "    finaldata=data_selected[data_selected[\"date\"]==time]"
   ]
  },
  {
   "cell_type": "code",
   "execution_count": 87,
   "metadata": {},
   "outputs": [
    {
     "data": {
      "text/plain": [
       "(2692, 10)"
      ]
     },
     "execution_count": 87,
     "metadata": {},
     "output_type": "execute_result"
    }
   ],
   "source": [
    "test=finaldata[feature_important_axis1].to_numpy()\n",
    "test.shape"
   ]
  },
  {
   "cell_type": "code",
   "execution_count": 88,
   "metadata": {},
   "outputs": [],
   "source": [
    "model = load('../10_best_xgboost_modeltestaxis1.joblib')\n",
    "res=model.predict(test)\n",
    "print(len(res))\n",
    "res"
   ]
  },
  {
   "cell_type": "code",
   "execution_count": 79,
   "metadata": {},
   "outputs": [],
   "source": [
    "truedata=data_selected[data_selected[\"date\"]==time]\n",
    "true=truedata.Schadensklasse.to_list()\n",
    "true=np.array(true)\n",
    "print(len(true))\n",
    "true"
   ]
  },
  {
   "cell_type": "code",
   "execution_count": 85,
   "metadata": {},
   "outputs": [
    {
     "name": "stdout",
     "output_type": "stream",
     "text": [
      "2692\n"
     ]
    },
    {
     "data": {
      "text/plain": [
       "array([2, 2, 2, ..., 2, 2, 2])"
      ]
     },
     "execution_count": 85,
     "metadata": {},
     "output_type": "execute_result"
    }
   ],
   "source": [
    "import numpy as np\n",
    "\n",
    "# 检查两个数组长度是否相同\n",
    "if len(res) != len(true):\n",
    "    raise ValueError(\"两个数组的长度不一致。\")\n",
    "\n",
    "# 比较两个数组\n",
    "similarity_array = res == true\n",
    "print(similarity_array)\n",
    "# 计算相同元素的数量\n",
    "similar_count = np.sum(similarity_array)\n",
    "print(similar_count)\n",
    "# 计算相似度比例\n",
    "similarity_ratio = similar_count / len(res)\n",
    "\n",
    "print(f\"相同元素的比例: {similarity_ratio:.2f}\")\n"
   ]
  }
 ],
 "metadata": {
  "kernelspec": {
   "display_name": "venv-name",
   "language": "python",
   "name": "python3"
  },
  "language_info": {
   "codemirror_mode": {
    "name": "ipython",
    "version": 3
   },
   "file_extension": ".py",
   "mimetype": "text/x-python",
   "name": "python",
   "nbconvert_exporter": "python",
   "pygments_lexer": "ipython3",
   "version": "3.9.18"
  }
 },
 "nbformat": 4,
 "nbformat_minor": 2
}
