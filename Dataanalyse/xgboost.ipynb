{
 "cells": [
  {
   "cell_type": "code",
   "execution_count": 15,
   "metadata": {},
   "outputs": [],
   "source": [
    "import numpy as np\n",
    "import pandas as pd\n",
    "import torch\n",
    "import torch.nn as nn\n",
    "from sklearn.preprocessing import MinMaxScaler\n",
    "from sklearn.model_selection import train_test_split\n",
    "from torch.utils.data import DataLoader, TensorDataset\n",
    "import os\n",
    "import xgboost as xgb\n",
    "import matplotlib.pyplot as plt\n"
   ]
  },
  {
   "cell_type": "code",
   "execution_count": 45,
   "metadata": {},
   "outputs": [
    {
     "name": "stdout",
     "output_type": "stream",
     "text": [
      "10000\n"
     ]
    }
   ],
   "source": [
    "all_data=pd.read_csv(\"axis2_demo_tablepart1_0.csv\")\n",
    "\n",
    "print(len(all_data))\n",
    "\n",
    "#data = pd.read_csv('axis2_demo_tablepart1_0.csv')\n",
    "\n",
    "# Assuming 'important_features.json' contains a JSON array of feature names\n",
    "import json\n",
    "\n",
    "with open('important_features.json', 'r') as file:\n",
    "    features = json.load(file)[:10]\n",
    "\n",
    "data_selected = all_data[features]"
   ]
  },
  {
   "cell_type": "code",
   "execution_count": 46,
   "metadata": {},
   "outputs": [
    {
     "data": {
      "text/html": [
       "<div>\n",
       "<style scoped>\n",
       "    .dataframe tbody tr th:only-of-type {\n",
       "        vertical-align: middle;\n",
       "    }\n",
       "\n",
       "    .dataframe tbody tr th {\n",
       "        vertical-align: top;\n",
       "    }\n",
       "\n",
       "    .dataframe thead th {\n",
       "        text-align: right;\n",
       "    }\n",
       "</style>\n",
       "<table border=\"1\" class=\"dataframe\">\n",
       "  <thead>\n",
       "    <tr style=\"text-align: right;\">\n",
       "      <th></th>\n",
       "      <th>Standardabweichung_y</th>\n",
       "      <th>Variance_z</th>\n",
       "      <th>Variance_y</th>\n",
       "      <th>Standardabweichung_z</th>\n",
       "      <th>Effektivwert_x</th>\n",
       "      <th>Mittlere_Absolute_Abweichung_y</th>\n",
       "      <th>Effektivwert_y</th>\n",
       "      <th>Standardabweichung_x</th>\n",
       "      <th>Mittelwert_x</th>\n",
       "      <th>Variance_x</th>\n",
       "    </tr>\n",
       "  </thead>\n",
       "  <tbody>\n",
       "    <tr>\n",
       "      <th>0</th>\n",
       "      <td>163.966</td>\n",
       "      <td>220962</td>\n",
       "      <td>26911.8</td>\n",
       "      <td>469.831</td>\n",
       "      <td>657.526</td>\n",
       "      <td>117.401</td>\n",
       "      <td>571.115</td>\n",
       "      <td>328.477</td>\n",
       "      <td>569.600</td>\n",
       "      <td>108005.0</td>\n",
       "    </tr>\n",
       "    <tr>\n",
       "      <th>1</th>\n",
       "      <td>171.940</td>\n",
       "      <td>235057</td>\n",
       "      <td>29592.9</td>\n",
       "      <td>484.584</td>\n",
       "      <td>627.592</td>\n",
       "      <td>122.691</td>\n",
       "      <td>571.746</td>\n",
       "      <td>309.810</td>\n",
       "      <td>545.792</td>\n",
       "      <td>96078.5</td>\n",
       "    </tr>\n",
       "    <tr>\n",
       "      <th>2</th>\n",
       "      <td>156.322</td>\n",
       "      <td>256573</td>\n",
       "      <td>24460.9</td>\n",
       "      <td>506.277</td>\n",
       "      <td>651.770</td>\n",
       "      <td>111.817</td>\n",
       "      <td>566.507</td>\n",
       "      <td>324.498</td>\n",
       "      <td>565.248</td>\n",
       "      <td>105404.0</td>\n",
       "    </tr>\n",
       "    <tr>\n",
       "      <th>3</th>\n",
       "      <td>174.714</td>\n",
       "      <td>241982</td>\n",
       "      <td>30555.6</td>\n",
       "      <td>491.670</td>\n",
       "      <td>653.578</td>\n",
       "      <td>123.620</td>\n",
       "      <td>568.931</td>\n",
       "      <td>325.453</td>\n",
       "      <td>566.784</td>\n",
       "      <td>106026.0</td>\n",
       "    </tr>\n",
       "    <tr>\n",
       "      <th>4</th>\n",
       "      <td>162.434</td>\n",
       "      <td>268509</td>\n",
       "      <td>26411.1</td>\n",
       "      <td>517.919</td>\n",
       "      <td>661.006</td>\n",
       "      <td>128.562</td>\n",
       "      <td>586.402</td>\n",
       "      <td>339.697</td>\n",
       "      <td>567.040</td>\n",
       "      <td>115510.0</td>\n",
       "    </tr>\n",
       "  </tbody>\n",
       "</table>\n",
       "</div>"
      ],
      "text/plain": [
       "   Standardabweichung_y  Variance_z  Variance_y  Standardabweichung_z  \\\n",
       "0               163.966      220962     26911.8               469.831   \n",
       "1               171.940      235057     29592.9               484.584   \n",
       "2               156.322      256573     24460.9               506.277   \n",
       "3               174.714      241982     30555.6               491.670   \n",
       "4               162.434      268509     26411.1               517.919   \n",
       "\n",
       "   Effektivwert_x  Mittlere_Absolute_Abweichung_y  Effektivwert_y  \\\n",
       "0         657.526                         117.401         571.115   \n",
       "1         627.592                         122.691         571.746   \n",
       "2         651.770                         111.817         566.507   \n",
       "3         653.578                         123.620         568.931   \n",
       "4         661.006                         128.562         586.402   \n",
       "\n",
       "   Standardabweichung_x  Mittelwert_x  Variance_x  \n",
       "0               328.477       569.600    108005.0  \n",
       "1               309.810       545.792     96078.5  \n",
       "2               324.498       565.248    105404.0  \n",
       "3               325.453       566.784    106026.0  \n",
       "4               339.697       567.040    115510.0  "
      ]
     },
     "execution_count": 46,
     "metadata": {},
     "output_type": "execute_result"
    }
   ],
   "source": [
    "data_selected.head(5)"
   ]
  },
  {
   "cell_type": "code",
   "execution_count": 55,
   "metadata": {},
   "outputs": [
    {
     "data": {
      "text/plain": [
       "array([[1.10611154e-03, 4.36220241e-04, 2.06424099e-05, 6.25969959e-03,\n",
       "        2.72064937e-02, 1.59843147e-03, 1.64782844e-02, 3.81172612e-03,\n",
       "        6.84932035e-01, 1.89942632e-04]])"
      ]
     },
     "execution_count": 55,
     "metadata": {},
     "output_type": "execute_result"
    }
   ],
   "source": [
    "scaler = MinMaxScaler(feature_range=(0, 1))\n",
    "data_scaled = scaler.fit_transform(data_selected)\n",
    "data_scaled[2:3 , :]"
   ]
  },
  {
   "cell_type": "code",
   "execution_count": 37,
   "metadata": {},
   "outputs": [],
   "source": [
    "\n",
    "# 数据归一化\n",
    "scaler = MinMaxScaler(feature_range=(0, 1))\n",
    "data_scaled = scaler.fit_transform(data_selected)\n",
    "\n",
    "\n",
    "# 准备数据集\n",
    "def create_dataset(dataset, look_back=1):\n",
    "    X, Y = [], []\n",
    "    for i in range(len(dataset) - look_back):\n",
    "        a = dataset[i:(i + look_back), :]\n",
    "        X.append(a)\n",
    "        b = dataset[i + look_back, :]\n",
    "        Y.append(b)\n",
    "    return np.array(X), np.array(Y)\n",
    "\n",
    "look_back = 1\n",
    "X, Y = create_dataset(data_scaled, look_back)\n",
    "X_train, X_test = X[:9000], X[9000:]\n",
    "Y_train, Y_test = Y[:9000], Y[9000:]\n",
    "X_train=X_train.reshape(len(X_train),len(features))\n",
    "X_test=X_test.reshape(len(X_test),len(features))\n",
    "# 使用XGBoost训练模型\n",
    "model = xgb.XGBRegressor(objective='reg:squarederror', n_estimators=100)\n",
    "model.fit(X_train, Y_train)\n",
    "\n",
    "# 进行预测\n",
    "y_pred = model.predict(X_test)\n",
    "\n",
    "# print the actual and predicted values for each feature\n",
    "import matplotlib.pyplot as plt\n",
    "\n",
    "true_test = scaler.inverse_transform(Y_test)\n",
    "y_pred_test = scaler.inverse_transform(y_pred)\n",
    "# 创建足够的子图，每个特征一个子图，所有子图排列成一列\n",
    "fig, axs = plt.subplots(len(features), 1, figsize=(10, 2*len(features)))  # 高度根据特征数量动态调整\n",
    "\n",
    "for i in range(len(features)):\n",
    "    # 如果只有一列，当只有一个特征时，axs不是列表，需要做一下处理\n",
    "    ax = axs[i] if len(features) > 1 else axs\n",
    "    \n",
    "    ax.plot(true_test[:, i], label='Actual')\n",
    "    ax.plot(y_pred_test[:, i], label='Predicted')\n",
    "    ax.set_title(f'Feature: {features[i]}')\n",
    "    ax.legend()\n",
    "\n",
    "plt.tight_layout()  # 自动调整子图参数，使之填充整个图像区域\n",
    "plt.show()\n"
   ]
  },
  {
   "cell_type": "code",
   "execution_count": 68,
   "metadata": {},
   "outputs": [
    {
     "name": "stdout",
     "output_type": "stream",
     "text": [
      "[[0.48015173 0.38820822 0.23737739 0.46326693 0.89850229 0.69953667\n",
      "  0.854714   0.34200662 0.29334272 0.9673981 ]]\n"
     ]
    }
   ],
   "source": [
    "import numpy as np\n",
    "\n",
    "# 生成一个6x10的随机数组\n",
    "array = np.random.rand(1, 10)\n",
    "\n",
    "print(array)\n"
   ]
  },
  {
   "cell_type": "code",
   "execution_count": 67,
   "metadata": {},
   "outputs": [
    {
     "data": {
      "text/plain": [
       "(10,)"
      ]
     },
     "execution_count": 67,
     "metadata": {},
     "output_type": "execute_result"
    }
   ],
   "source": [
    "array[1].shape"
   ]
  },
  {
   "cell_type": "code",
   "execution_count": 69,
   "metadata": {},
   "outputs": [
    {
     "data": {
      "text/plain": [
       "array([[0.66890293, 0.22877522, 0.6208459 , 0.42756167, 0.34186634,\n",
       "        0.7397818 , 0.50888264, 0.15853034, 0.4799016 , 0.05330889]],\n",
       "      dtype=float32)"
      ]
     },
     "execution_count": 69,
     "metadata": {},
     "output_type": "execute_result"
    }
   ],
   "source": [
    "y_pred_arr = model.predict(array)\n",
    "\n",
    "y_pred_arr\n"
   ]
  }
 ],
 "metadata": {
  "kernelspec": {
   "display_name": "masterarbeit",
   "language": "python",
   "name": "python3"
  },
  "language_info": {
   "codemirror_mode": {
    "name": "ipython",
    "version": 3
   },
   "file_extension": ".py",
   "mimetype": "text/x-python",
   "name": "python",
   "nbconvert_exporter": "python",
   "pygments_lexer": "ipython3",
   "version": "3.9.18"
  }
 },
 "nbformat": 4,
 "nbformat_minor": 2
}
