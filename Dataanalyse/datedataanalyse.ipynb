{
 "cells": [
  {
   "cell_type": "code",
   "execution_count": 19,
   "metadata": {},
   "outputs": [
    {
     "name": "stdout",
     "output_type": "stream",
     "text": [
      "Testing with freq='t' and timeenc=0:\n",
      "[[ 5 17  1 17  6]\n",
      " [ 5 17  1 18  6]\n",
      " [ 5 17  1 19  6]\n",
      " [ 5 17  1 20  6]]\n",
      "\n",
      "Testing with freq='d' and timeenc=0:\n",
      "[[ 5 17  1]\n",
      " [ 5 17  1]\n",
      " [ 5 17  1]\n",
      " [ 5 17  1]]\n"
     ]
    },
    {
     "name": "stderr",
     "output_type": "stream",
     "text": [
      "C:\\Users\\lia68085\\AppData\\Local\\Temp\\ipykernel_6120\\3924161930.py:7: FutureWarning: 'H' is deprecated and will be removed in a future version, please use 'h' instead.\n",
      "  'date': pd.date_range(start='2022-05-17 17:06:40', periods=4, freq='H')\n"
     ]
    }
   ],
   "source": [
    "import pandas as pd\n",
    "import numpy as np\n",
    "from datetime import datetime\n",
    "\n",
    "# Sample DataFrame creation\n",
    "data = {\n",
    "    'date': pd.date_range(start='2022-05-17 17:06:40', periods=4, freq='H')\n",
    "}\n",
    "dates = pd.DataFrame(data)\n",
    "\n",
    "# time_features function definition\n",
    "def time_features(dates, timeenc=0, freq='h'):\n",
    "    if timeenc == 0:\n",
    "        dates['year'] = dates.date.apply(lambda row: row.year)\n",
    "        dates['month'] = dates.date.apply(lambda row: row.month)\n",
    "        dates['day'] = dates.date.apply(lambda row: row.day)\n",
    "        dates['weekday'] = dates.date.apply(lambda row: row.weekday())\n",
    "        dates['hour'] = dates.date.apply(lambda row: row.hour)\n",
    "        dates['minute'] = dates.date.apply(lambda row: row.minute)\n",
    "        #dates['minute'] = dates['minute'].map(lambda x: x // 15)\n",
    "        freq_map = {\n",
    "            'y': ['year'], 'm': ['month'], 'w': ['month'], 'd': ['month', 'day', 'weekday'],\n",
    "            'b': ['month', 'day', 'weekday'], 'h': ['month', 'day', 'weekday', 'hour'],\n",
    "            't': ['month', 'day', 'weekday', 'hour', 'minute'],\n",
    "        }\n",
    "        return dates[freq_map[freq.lower()]].values\n",
    "    else:\n",
    "        # For demonstration, just returning an empty array for timeenc=1\n",
    "        # Implement normalization as needed\n",
    "        return np.array([])\n",
    "\n",
    "# Testing the function\n",
    "print(\"Testing with freq='t' and timeenc=0:\")\n",
    "print(time_features(dates, timeenc=0, freq='t'))\n",
    "\n",
    "print(\"\\nTesting with freq='d' and timeenc=0:\")\n",
    "print(time_features(dates, timeenc=0, freq='d'))\n",
    "\n",
    "# Example for timeenc=1 would require implementing the normalization part\n"
   ]
  },
  {
   "cell_type": "code",
   "execution_count": 20,
   "metadata": {},
   "outputs": [
    {
     "data": {
      "text/html": [
       "<div>\n",
       "<style scoped>\n",
       "    .dataframe tbody tr th:only-of-type {\n",
       "        vertical-align: middle;\n",
       "    }\n",
       "\n",
       "    .dataframe tbody tr th {\n",
       "        vertical-align: top;\n",
       "    }\n",
       "\n",
       "    .dataframe thead th {\n",
       "        text-align: right;\n",
       "    }\n",
       "</style>\n",
       "<table border=\"1\" class=\"dataframe\">\n",
       "  <thead>\n",
       "    <tr style=\"text-align: right;\">\n",
       "      <th></th>\n",
       "      <th>date</th>\n",
       "      <th>year</th>\n",
       "      <th>month</th>\n",
       "      <th>day</th>\n",
       "      <th>weekday</th>\n",
       "      <th>hour</th>\n",
       "      <th>minute</th>\n",
       "    </tr>\n",
       "  </thead>\n",
       "  <tbody>\n",
       "    <tr>\n",
       "      <th>0</th>\n",
       "      <td>2022-05-17 17:06:40</td>\n",
       "      <td>2022</td>\n",
       "      <td>5</td>\n",
       "      <td>17</td>\n",
       "      <td>1</td>\n",
       "      <td>17</td>\n",
       "      <td>6</td>\n",
       "    </tr>\n",
       "    <tr>\n",
       "      <th>1</th>\n",
       "      <td>2022-05-17 18:06:40</td>\n",
       "      <td>2022</td>\n",
       "      <td>5</td>\n",
       "      <td>17</td>\n",
       "      <td>1</td>\n",
       "      <td>18</td>\n",
       "      <td>6</td>\n",
       "    </tr>\n",
       "    <tr>\n",
       "      <th>2</th>\n",
       "      <td>2022-05-17 19:06:40</td>\n",
       "      <td>2022</td>\n",
       "      <td>5</td>\n",
       "      <td>17</td>\n",
       "      <td>1</td>\n",
       "      <td>19</td>\n",
       "      <td>6</td>\n",
       "    </tr>\n",
       "    <tr>\n",
       "      <th>3</th>\n",
       "      <td>2022-05-17 20:06:40</td>\n",
       "      <td>2022</td>\n",
       "      <td>5</td>\n",
       "      <td>17</td>\n",
       "      <td>1</td>\n",
       "      <td>20</td>\n",
       "      <td>6</td>\n",
       "    </tr>\n",
       "  </tbody>\n",
       "</table>\n",
       "</div>"
      ],
      "text/plain": [
       "                 date  year  month  day  weekday  hour  minute\n",
       "0 2022-05-17 17:06:40  2022      5   17        1    17       6\n",
       "1 2022-05-17 18:06:40  2022      5   17        1    18       6\n",
       "2 2022-05-17 19:06:40  2022      5   17        1    19       6\n",
       "3 2022-05-17 20:06:40  2022      5   17        1    20       6"
      ]
     },
     "execution_count": 20,
     "metadata": {},
     "output_type": "execute_result"
    }
   ],
   "source": [
    "dates"
   ]
  },
  {
   "cell_type": "code",
   "execution_count": 12,
   "metadata": {},
   "outputs": [
    {
     "name": "stdout",
     "output_type": "stream",
     "text": [
      "2022-05-17 17:06:40\n"
     ]
    }
   ],
   "source": [
    "from datetime import datetime\n",
    "\n",
    "# Assuming your timestamp is in seconds (Unix time)\n",
    "timestamp = 1652800000\n",
    "\n",
    "# Convert to a datetime object\n",
    "dt_object = datetime.fromtimestamp(timestamp)\n",
    "\n",
    "# Print the datetime in a readable format\n",
    "print(dt_object.strftime('%Y-%m-%d %H:%M:%S'))\n"
   ]
  }
 ],
 "metadata": {
  "kernelspec": {
   "display_name": "Thesis",
   "language": "python",
   "name": "python3"
  },
  "language_info": {
   "codemirror_mode": {
    "name": "ipython",
    "version": 3
   },
   "file_extension": ".py",
   "mimetype": "text/x-python",
   "name": "python",
   "nbconvert_exporter": "python",
   "pygments_lexer": "ipython3",
   "version": "3.9.18"
  }
 },
 "nbformat": 4,
 "nbformat_minor": 2
}
