{
 "cells": [
  {
   "cell_type": "code",
   "execution_count": 58,
   "metadata": {},
   "outputs": [],
   "source": [
    "import pandas as pd\n",
    "import numpy as np\n",
    "import os\n",
    "from pathlib import Path\n",
    "import csv\n",
    "\n",
    "Datadir=Path(r'D:\\studydata\\Masterarbeit\\Data\\withoutR')\n",
    "filepath=[]\n",
    "for file in os.listdir(Datadir):\n",
    "\n",
    "   filepath.append(os.path.join(Datadir,file))"
   ]
  },
  {
   "cell_type": "code",
   "execution_count": 59,
   "metadata": {},
   "outputs": [],
   "source": [
    "\n",
    "filepath[0]\n",
    "\n",
    "folderpath=Path(r'D:\\studydata\\Masterarbeit\\Data\\withoutR')\n",
    "df=pd.read_csv(filepath[0])\n",
    "#for file in filepath:\n",
    "# df.drop(\"Rohdaten\", axis=1, inplace=True)\n",
    "# df.to_csv(os.path.join(folderpath,os.path.basename(filepath[0])), index=False)\n"
   ]
  },
  {
   "cell_type": "code",
   "execution_count": 65,
   "metadata": {},
   "outputs": [
    {
     "data": {
      "text/plain": [
       "Index(['ID', 'Schadensklasse', 'Mittelwert_x', 'Mittelwert_y', 'Mittelwert_z',\n",
       "       'Variance_x', 'Variance_y', 'Variance_z', 'Effektivwert_x',\n",
       "       'Effektivwert_y', 'Effektivwert_z', 'Standardabweichung_x',\n",
       "       'Standardabweichung_y', 'Standardabweichung_z', 'Woehlbung_x',\n",
       "       'Woehlbung_y', 'Woehlbung_z', 'Schiefe_x', 'Schiefe_y', 'Schiefe_z',\n",
       "       'Mittlere_Absolute_Abweichung_x', 'Mittlere_Absolute_Abweichung_y',\n",
       "       'Mittlere_Absolute_Abweichung_z', 'Zentrales_Moment_x',\n",
       "       'Zentrales_Moment_y', 'Zentrales_Moment_z', 'Median_x', 'Median_y',\n",
       "       'Median_z', 'Timestamp'],\n",
       "      dtype='object')"
      ]
     },
     "execution_count": 65,
     "metadata": {},
     "output_type": "execute_result"
    }
   ],
   "source": [
    "columns_name=df.columns"
   ]
  },
  {
   "cell_type": "code",
   "execution_count": 88,
   "metadata": {},
   "outputs": [],
   "source": [
    "datapath=Path(r'D:\\studydata\\Masterarbeit\\Data\\withoutR')\n",
    "savepath=r\"D:\\studydata\\Masterarbeit\\Data\\test\"\n",
    "\n",
    "filelist=os.listdir(datapath)\n",
    "for file in filelist:\n",
    "    filepath=os.path.join(datapath,file)\n",
    "    df=pd.read_csv(filepath)\n",
    "    # save every 10 rows in a new file\n",
    "    if len(df)>100:\n",
    "        for i in range(0, len(df), 10000):\n",
    "            filename = os.path.basename(filepath).replace('.csv','_'+str(i)+'.csv')\n",
    "            df.iloc[i:i+10000].to_csv(os.path.join(savepath,filename), index=False)"
   ]
  },
  {
   "cell_type": "code",
   "execution_count": 75,
   "metadata": {},
   "outputs": [
    {
     "data": {
      "text/plain": [
       "'axis1_training_table'"
      ]
     },
     "execution_count": 75,
     "metadata": {},
     "output_type": "execute_result"
    }
   ],
   "source": [
    "# delete .csv from the file name\n",
    "\n",
    "os.path.basename(filepath[0]).replace('.csv','')"
   ]
  },
  {
   "cell_type": "code",
   "execution_count": 42,
   "metadata": {},
   "outputs": [],
   "source": [
    "#create a folder\n",
    "foldername='test'\n",
    "folderpath=os.path.join(Datadir,foldername)\n",
    "os.makedirs(folderpath,exist_ok=True)\n"
   ]
  },
  {
   "cell_type": "code",
   "execution_count": 43,
   "metadata": {},
   "outputs": [],
   "source": [
    "#for file in filepath:\n",
    "df=pd.read_csv(file)\n",
    "df.drop(\"Rohdaten\", axis=1, inplace=True)\n",
    "df.to_csv(os.path.join(folderpath,os.path.basename(file)), index=False)\n",
    "\n",
    "\n"
   ]
  },
  {
   "cell_type": "code",
   "execution_count": 45,
   "metadata": {},
   "outputs": [
    {
     "data": {
      "text/plain": [
       "['axis1.csv',\n",
       " 'axis2_demo_tablepart1.csv',\n",
       " 'axis2_demo_tablepart2.csv',\n",
       " 'axis2_demo_tablepart3.csv',\n",
       " 'axis2_demo_tablepart4.csv',\n",
       " 'axis2_demo_tablepart5.csv',\n",
       " 'axis2_demo_tablepart6.csv',\n",
       " 'axis2_demo_tablepart7.csv',\n",
       " 'axis2_demo_tablepart8.csv',\n",
       " 'test']"
      ]
     },
     "execution_count": 45,
     "metadata": {},
     "output_type": "execute_result"
    }
   ],
   "source": [
    "file_name = os.listdir(Datadir)\n",
    "file_name"
   ]
  },
  {
   "cell_type": "code",
   "execution_count": null,
   "metadata": {},
   "outputs": [],
   "source": [
    "os.path.getsize()"
   ]
  },
  {
   "cell_type": "code",
   "execution_count": null,
   "metadata": {},
   "outputs": [],
   "source": [
    "filedir=os.listdir(Datadir)\n",
    "\n",
    "\n",
    "filedir=pd.DataFrame(filedir)\n",
    "df=filedir[0].str.split('_',expand = True)\n",
    "df.columns = ['Name', 'Code', 'Age']\n",
    "df['Code']=df['Code'].astype(int)\n",
    "df_sorted = df.sort_values(by='Code', ascending=True)\n"
   ]
  },
  {
   "cell_type": "code",
   "execution_count": null,
   "metadata": {},
   "outputs": [],
   "source": [
    "\n"
   ]
  },
  {
   "cell_type": "code",
   "execution_count": null,
   "metadata": {},
   "outputs": [],
   "source": []
  },
  {
   "cell_type": "code",
   "execution_count": null,
   "metadata": {},
   "outputs": [
    {
     "data": {
      "text/html": [
       "<div>\n",
       "<style scoped>\n",
       "    .dataframe tbody tr th:only-of-type {\n",
       "        vertical-align: middle;\n",
       "    }\n",
       "\n",
       "    .dataframe tbody tr th {\n",
       "        vertical-align: top;\n",
       "    }\n",
       "\n",
       "    .dataframe thead th {\n",
       "        text-align: right;\n",
       "    }\n",
       "</style>\n",
       "<table border=\"1\" class=\"dataframe\">\n",
       "  <thead>\n",
       "    <tr style=\"text-align: right;\">\n",
       "      <th></th>\n",
       "      <th>Name</th>\n",
       "      <th>Code</th>\n",
       "      <th>Age</th>\n",
       "    </tr>\n",
       "  </thead>\n",
       "  <tbody>\n",
       "    <tr>\n",
       "      <th>5</th>\n",
       "      <td>part1</td>\n",
       "      <td>0</td>\n",
       "      <td>100000.csv</td>\n",
       "    </tr>\n",
       "    <tr>\n",
       "      <th>6</th>\n",
       "      <td>part2</td>\n",
       "      <td>100000</td>\n",
       "      <td>200000.csv</td>\n",
       "    </tr>\n",
       "    <tr>\n",
       "      <th>7</th>\n",
       "      <td>part3</td>\n",
       "      <td>200000</td>\n",
       "      <td>300000.csv</td>\n",
       "    </tr>\n",
       "    <tr>\n",
       "      <th>8</th>\n",
       "      <td>part4</td>\n",
       "      <td>300000</td>\n",
       "      <td>400000.csv</td>\n",
       "    </tr>\n",
       "    <tr>\n",
       "      <th>9</th>\n",
       "      <td>part5</td>\n",
       "      <td>500000</td>\n",
       "      <td>700000.csv</td>\n",
       "    </tr>\n",
       "    <tr>\n",
       "      <th>10</th>\n",
       "      <td>part6</td>\n",
       "      <td>700000</td>\n",
       "      <td>1000000.csv</td>\n",
       "    </tr>\n",
       "    <tr>\n",
       "      <th>11</th>\n",
       "      <td>part7</td>\n",
       "      <td>1000000</td>\n",
       "      <td>1200000.csv</td>\n",
       "    </tr>\n",
       "    <tr>\n",
       "      <th>12</th>\n",
       "      <td>part8</td>\n",
       "      <td>1200000</td>\n",
       "      <td>1400000.csv</td>\n",
       "    </tr>\n",
       "    <tr>\n",
       "      <th>13</th>\n",
       "      <td>part9</td>\n",
       "      <td>1400000</td>\n",
       "      <td>1600000.csv</td>\n",
       "    </tr>\n",
       "    <tr>\n",
       "      <th>0</th>\n",
       "      <td>part10</td>\n",
       "      <td>1600000</td>\n",
       "      <td>1800000.csv</td>\n",
       "    </tr>\n",
       "    <tr>\n",
       "      <th>1</th>\n",
       "      <td>part11</td>\n",
       "      <td>1800000</td>\n",
       "      <td>2000000.csv</td>\n",
       "    </tr>\n",
       "    <tr>\n",
       "      <th>2</th>\n",
       "      <td>part12</td>\n",
       "      <td>2000000</td>\n",
       "      <td>2200000.csv</td>\n",
       "    </tr>\n",
       "    <tr>\n",
       "      <th>3</th>\n",
       "      <td>part13</td>\n",
       "      <td>2200000</td>\n",
       "      <td>2400000.csv</td>\n",
       "    </tr>\n",
       "    <tr>\n",
       "      <th>4</th>\n",
       "      <td>part14</td>\n",
       "      <td>2400000</td>\n",
       "      <td>2489581.csv</td>\n",
       "    </tr>\n",
       "  </tbody>\n",
       "</table>\n",
       "</div>"
      ],
      "text/plain": [
       "      Name     Code          Age\n",
       "5    part1        0   100000.csv\n",
       "6    part2   100000   200000.csv\n",
       "7    part3   200000   300000.csv\n",
       "8    part4   300000   400000.csv\n",
       "9    part5   500000   700000.csv\n",
       "10   part6   700000  1000000.csv\n",
       "11   part7  1000000  1200000.csv\n",
       "12   part8  1200000  1400000.csv\n",
       "13   part9  1400000  1600000.csv\n",
       "0   part10  1600000  1800000.csv\n",
       "1   part11  1800000  2000000.csv\n",
       "2   part12  2000000  2200000.csv\n",
       "3   part13  2200000  2400000.csv\n",
       "4   part14  2400000  2489581.csv"
      ]
     },
     "execution_count": 103,
     "metadata": {},
     "output_type": "execute_result"
    }
   ],
   "source": [
    "df_sorted"
   ]
  },
  {
   "cell_type": "code",
   "execution_count": null,
   "metadata": {},
   "outputs": [],
   "source": [
    "table=[]\n",
    "for i in filedir:\n",
    "    table.append(np.char.split(i,sep='_'))\n",
    "    \n",
    "table[0].tolist()"
   ]
  }
 ],
 "metadata": {
  "kernelspec": {
   "display_name": "Thesis",
   "language": "python",
   "name": "python3"
  },
  "language_info": {
   "codemirror_mode": {
    "name": "ipython",
    "version": 3
   },
   "file_extension": ".py",
   "mimetype": "text/x-python",
   "name": "python",
   "nbconvert_exporter": "python",
   "pygments_lexer": "ipython3",
   "version": "3.9.18"
  }
 },
 "nbformat": 4,
 "nbformat_minor": 2
}
